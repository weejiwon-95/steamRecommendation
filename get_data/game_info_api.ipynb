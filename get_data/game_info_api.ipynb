{
 "cells": [
  {
   "cell_type": "code",
   "execution_count": 18,
   "id": "8aeb593c-bd4f-40e2-a16b-4e27cad74dc8",
   "metadata": {},
   "outputs": [],
   "source": [
    "import requests\n",
    "import yaml\n",
    "import re\n",
    "from tqdm import tqdm\n",
    "from time import sleep\n",
    "import time\n",
    "import os\n",
    "os.chdir(\"C:\\\\Users\\weejw\\Documents\\steamRecommendation\")\n",
    "from db_config.db_funtion import db_execute\n"
   ]
  },
  {
   "cell_type": "code",
   "execution_count": 22,
   "id": "a086d63b-6213-47db-8010-56b2335a2279",
   "metadata": {},
   "outputs": [],
   "source": [
    "resp = requests.get(\" http://api.steampowered.com/ISteamApps/GetAppList/v0002/?format=json\")\n",
    "app_list = resp.json()\n",
    "apps = app_list['applist']['apps']\n",
    "\n",
    "with open('C:\\\\Users\\weejw\\Documents\\steamRecommendation\\db_config\\db_auth.yaml', 'r') as file:\n",
    "    db_auth = yaml.safe_load(file)\n"
   ]
  },
  {
   "cell_type": "code",
   "execution_count": 23,
   "id": "0d9aa742-8578-4e2c-8c37-b5c82e4c7f9f",
   "metadata": {},
   "outputs": [
    {
     "data": {
      "text/plain": "131984"
     },
     "execution_count": 23,
     "metadata": {},
     "output_type": "execute_result"
    }
   ],
   "source": [
    "len(apps)\n"
   ]
  },
  {
   "cell_type": "code",
   "execution_count": 25,
   "id": "13817d4a-fe06-4199-a87d-f9c0f5e04238",
   "metadata": {},
   "outputs": [],
   "source": [
    "def data_insert(game_info):\n",
    "    need_data = ['name','steam_appid', 'required_age', 'is_free', 'short_description', 'developers', 'publishers', 'price_overview', \n",
    "             'platforms', 'release_date', 'supported_languages', 'categories', 'genres', 'recommendations']\n",
    "    \n",
    "    need_data_dic ={}\n",
    "    for key, data in game_info.items():\n",
    "        if key in need_data:\n",
    "            if key in [\"developers\", \"publishers\"]:\n",
    "                data = data[0]\n",
    "\n",
    "            elif key == \"price_overview\":\n",
    "                need_data_dic['final_price'] = data['final']\n",
    "                need_data_dic['initial_price'] = data['initial']\n",
    "                need_data_dic['discount_percent'] = data['discount_percent']\n",
    "                continue\n",
    "\n",
    "            elif key == \"platforms\":\n",
    "                res = \"\"\n",
    "                for platform, boolean in data.items():\n",
    "                    if boolean:\n",
    "                       res += platform \n",
    "                data = res\n",
    "\n",
    "            elif key == \"release_date\":\n",
    "                if data['coming_soon']:\n",
    "                    data = 'coming_soon'\n",
    "                else:\n",
    "                    data = data['date']\n",
    "            elif key == \"supported_languages\":\n",
    "                data = re.sub('<.*?>|[-*]', '',data).replace(\"음성이 지원되는 언어\",\", 음성이 지원되는 언어\")\n",
    "\n",
    "            elif key == \"categories\":\n",
    "                category_id = []\n",
    "                category_value = []\n",
    "                for category_info in data:\n",
    "                    category_id.append(str(category_info['id']))\n",
    "                    category_value.append(category_info['description'])\n",
    "                need_data_dic['categories_id'] = ','.join(category_id)\n",
    "                need_data_dic['categories'] = ','.join(category_value)\n",
    "                continue\n",
    "\n",
    "            elif key == \"genres\":\n",
    "                genre_id = []\n",
    "                genre_value = []\n",
    "                for genre_info in data:\n",
    "                    genre_id.append(str(genre_info['id']))\n",
    "                    genre_value.append(genre_info['description'])\n",
    "                need_data_dic['genres_id'] = ','.join(genre_id)\n",
    "                need_data_dic['genres'] = ','.join(genre_value)\n",
    "                continue\n",
    "\n",
    "            elif key == \"recommendations\":\n",
    "                data = data['total']\n",
    "\n",
    "            if type(data) is str:\n",
    "                need_data_dic[key] = re.sub('(<([^>^-]+)>)', '',data)\n",
    "            else:\n",
    "                need_data_dic[key] = data\n",
    "                \n",
    "    placeholders = ', '.join(['%s'] * len(need_data_dic))\n",
    "    columns = ', '.join(need_data_dic.keys())\n",
    "    \n",
    "    sql = \"INSERT IGNORE INTO %s ( %s ) VALUES ( %s )\" % ('game_info', columns, placeholders)\n",
    "    \n",
    "    return db_function.execute_insert(sql, list(need_data_dic.values()))"
   ]
  },
  {
   "cell_type": "code",
   "execution_count": null,
   "id": "501444e5-d013-4a6e-b3cf-e1d239f7389b",
   "metadata": {
    "pycharm": {
     "is_executing": true,
     "name": "#%%\n"
    }
   },
   "outputs": [
    {
     "name": "stderr",
     "output_type": "stream",
     "text": [
      "  0%|          | 52/131984 [04:35<194:24:14,  5.30s/it]"
     ]
    }
   ],
   "source": [
    "start_time = time.time()\n",
    "try_cnt = 0\n",
    "db_function = None\n",
    "try:    \n",
    "    db_function = db_execute(db_auth['local_db'][\"host\"], \n",
    "                             db_auth['local_db'][\"port\"],\n",
    "                             db_auth['local_db'][\"user\"],\n",
    "                             db_auth['local_db'][\"db\"], \n",
    "                             db_auth['local_db'][\"passwd\"])\n",
    "    for app_info in tqdm(apps):\n",
    "        try_cnt +=1\n",
    "        current_time = time.time()\n",
    "        elapsed_time = current_time - start_time\n",
    "\n",
    "        if try_cnt > 200 and elapsed_time < 300:\n",
    "            sleep(60)\n",
    "            try_cnt = 0\n",
    "            start_time = time.time()\n",
    "\n",
    "        try:\n",
    "            appid = app_info['appid']\n",
    "            sql = \"SELECT id FROM game_info WHERE steam_appid=%s\" % appid\n",
    "            if db_function.execute_select(sql):\n",
    "                continue\n",
    "\n",
    "            url = f\"https://store.steampowered.com/api/appdetails?appids={appid}&l=korean\"\n",
    "\n",
    "            resp = requests.get(url)\n",
    "            if not resp.ok:\n",
    "                print(url, resp)\n",
    "\n",
    "            game_info_resp = resp.json()\n",
    "            if game_info_resp and game_info_resp[str(appid)]['success']:\n",
    "                res = data_insert(game_info_resp)\n",
    "            sleep(5)\n",
    "\n",
    "        except KeyboardInterrupt as e:\n",
    "            break\n",
    "\n",
    "        except:\n",
    "            raise\n",
    "            \n",
    "finally:\n",
    "    db_function.curs.close()\n",
    "    db_function.conn.close()"
   ]
  }
 ],
 "metadata": {
  "kernelspec": {
   "display_name": "steam_recom",
   "language": "python",
   "name": "steam_recom"
  },
  "language_info": {
   "codemirror_mode": {
    "name": "ipython",
    "version": 3
   },
   "file_extension": ".py",
   "mimetype": "text/x-python",
   "name": "python",
   "nbconvert_exporter": "python",
   "pygments_lexer": "ipython3",
   "version": "3.8.10"
  }
 },
 "nbformat": 4,
 "nbformat_minor": 5
}