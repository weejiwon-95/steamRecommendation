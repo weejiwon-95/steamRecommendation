{
 "cells": [
  {
   "cell_type": "code",
   "execution_count": 1,
   "id": "8d0b14c1-82c0-4fe5-b2ee-767717340c8d",
   "metadata": {},
   "outputs": [],
   "source": [
    "import requests\n",
    "import yaml\n",
    "import time\n",
    "from tqdm import tqdm\n",
    "from datetime import datetime\n",
    "import steamreviews\n",
    "from time import sleep\n",
    "import os\n",
    "import json\n",
    "os.chdir(\"C:\\\\Users\\weejw\\Documents\\steamRecommendation\")\n",
    "from db_config.db_funtion import db_execute\n"
   ]
  },
  {
   "cell_type": "code",
   "execution_count": 2,
   "id": "27438e09-485b-4601-b29f-21ab238aace5",
   "metadata": {},
   "outputs": [],
   "source": [
    "def review_insert(reviews, appid, review_type):\n",
    "    need_data = ['votes_up', 'votes_funny', 'steam_purchase', 'received_for_free', 'written_during_early_access', 'review']\n",
    "    need_data_dic ={'steam_appid': appid}\n",
    "        \n",
    "    for review in reviews['reviews']:\n",
    "        author = review['author']\n",
    "        steamid = author['steamid']\n",
    "        sql = \"SELECT id FROM review WHERE steam_appid=%s AND steamid='%s'\" % (appid, steamid)\n",
    "        if db_function.execute_select(sql):\n",
    "            return\n",
    "        for k, v in author.items():\n",
    "            if k == 'last_played':\n",
    "                v = datetime.fromtimestamp(v).strftime(\"%Y-%m-%d %H:%M:%S\")\n",
    "            need_data_dic[k] = v\n",
    "        \n",
    "        for col in need_data:\n",
    "            need_data_dic[col] = review[col]\n",
    "            \n",
    "        \n",
    "        need_data_dic['review_type'] = review_type\n",
    "        \n",
    "        placeholders = ', '.join(['%s'] * len(need_data_dic))\n",
    "        columns = ', '.join(need_data_dic.keys())\n",
    "        \n",
    "        sql = \"INSERT IGNORE INTO %s ( %s ) VALUES ( %s )\" % ('review', columns, placeholders)\n",
    "        db_function.execute_insert(sql, list(need_data_dic.values()))\n"
   ]
  },
  {
   "cell_type": "code",
   "execution_count": null,
   "id": "f9272240-ea1e-42b0-aa9f-67cdee7b3ef4",
   "metadata": {
    "tags": []
   },
   "outputs": [
    {
     "name": "stderr",
     "output_type": "stream",
     "text": [
      "  0%|▎                                                                                                                                                                                                                                           | 4/3518 [00:21<5:12:17,  5.33s/it]"
     ]
    }
   ],
   "source": [
    "start_time = time.time()\n",
    "try_cnt = 0\n",
    "db_function = None\n",
    "\n",
    "start_time = time.time()\n",
    "try_cnt = 0\n",
    "\n",
    "with open('C:\\\\Users\\weejw\\Documents\\steamRecommendation\\db_config\\db_auth.yaml', 'r') as file:\n",
    "    db_auth = yaml.safe_load(file)\n",
    "\n",
    "try:\n",
    "    db_function = db_execute(db_auth['local_db'][\"host\"], \n",
    "                             db_auth['local_db'][\"port\"],\n",
    "                             db_auth['local_db'][\"user\"],\n",
    "                             db_auth['local_db'][\"db\"], \n",
    "                             db_auth['local_db'][\"passwd\"])\n",
    "\n",
    "    sql = \"SELECT steam_appid FROM game_info\"\n",
    "    app_ids = db_function.execute_select(sql)\n",
    "    for appid in tqdm(app_ids):\n",
    "        try:\n",
    "            try_cnt +=1\n",
    "            current_time = time.time()\n",
    "            elapsed_time = current_time - start_time\n",
    "            if try_cnt > 200 and elapsed_time < 300:\n",
    "                sleep(60)\n",
    "                try_cnt = 0\n",
    "                start_time = time.time()\n",
    "\n",
    "            appid = appid[0]\n",
    "            \n",
    "            review_type='negative'\n",
    "            num_per_page=100\n",
    "            day_range=100\n",
    "            language='korean'\n",
    "            \n",
    "            \n",
    "            url = f\"https://store.steampowered.com/appreviews/{appid}?json=1&review_type={review_type}&day_range={day_range}&num_per_page={num_per_page}&language={language}\"\n",
    "            resp = requests.get(url)\n",
    "            \n",
    "            if not resp.ok:\n",
    "                print(url, resp)\n",
    "            reviews = resp.json()\n",
    "            \n",
    "            if reviews['reviews']:\n",
    "                review_insert(reviews, appid, review_type)\n",
    "\n",
    "            sleep(5)\n",
    "\n",
    "            \n",
    "        except KeyboardInterrupt as e:\n",
    "            break\n",
    "        \n",
    "        except json.decoder.JSONDecodeError:\n",
    "                continue\n",
    "        \n",
    "except:\n",
    "    raise\n",
    "    \n",
    "finally:\n",
    "    db_function.curs.close()\n",
    "    db_function.conn.close()\n",
    "    "
   ]
  }
 ],
 "metadata": {
  "kernelspec": {
   "display_name": "PyCharm (steamRecommendation)",
   "language": "python",
   "name": "pycharm-95bc12b2"
  },
  "language_info": {
   "codemirror_mode": {
    "name": "ipython",
    "version": 3
   },
   "file_extension": ".py",
   "mimetype": "text/x-python",
   "name": "python",
   "nbconvert_exporter": "python",
   "pygments_lexer": "ipython3",
   "version": "3.8.10"
  }
 },
 "nbformat": 4,
 "nbformat_minor": 5
}
