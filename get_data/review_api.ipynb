{
 "cells": [
  {
   "cell_type": "code",
   "execution_count": 1,
   "id": "8d0b14c1-82c0-4fe5-b2ee-767717340c8d",
   "metadata": {},
   "outputs": [],
   "source": [
    "import requests\n",
    "import yaml\n",
    "import time\n",
    "from tqdm import tqdm\n",
    "from datetime import datetime\n",
    "import steamreviews\n",
    "from time import sleep\n",
    "import os\n",
    "os.chdir(\"C:\\\\Users\\weejw\\Documents\\steamRecommendation\")\n",
    "from db_config.db_funtion import db_execute"
   ]
  },
  {
   "cell_type": "code",
   "execution_count": 2,
   "id": "10b24e53-ef1e-43f2-8ad7-85ad01e1a4f1",
   "metadata": {
    "tags": []
   },
   "outputs": [],
   "source": [
    "resp = requests.get(\"https://api.steampowered.com/ISteamApps/GetAppList/v2\")\n",
    "app_list = resp.json()\n",
    "apps = app_list['applist']['apps']\n",
    "\n",
    "with open('C:\\\\Users\\weejw\\Documents\\steamRecommendation\\db_config\\db_auth.yaml', 'r') as file:\n",
    "    db_auth = yaml.safe_load(file)\n"
   ]
  },
  {
   "cell_type": "code",
   "execution_count": 3,
   "id": "0a155b86-c174-4e86-8714-23ffad20148d",
   "metadata": {},
   "outputs": [
    {
     "data": {
      "text/plain": [
       "131986"
      ]
     },
     "execution_count": 3,
     "metadata": {},
     "output_type": "execute_result"
    }
   ],
   "source": [
    "len(apps)"
   ]
  },
  {
   "cell_type": "code",
   "execution_count": 4,
   "id": "27438e09-485b-4601-b29f-21ab238aace5",
   "metadata": {},
   "outputs": [],
   "source": [
    "def review_insert(reviews, appid):\n",
    "    need_data = ['votes_up', 'votes_funny', 'steam_purchase', 'received_for_free', 'written_during_early_access']\n",
    "    need_data_dic ={'steam_appid': appid}\n",
    "        \n",
    "    for _, review in reviews[0]['reviews'].items():\n",
    "        author = review['author']\n",
    "        steamid = author['steamid']\n",
    "        sql = \"SELECT steam_appid FROM review WHERE steam_appid=%s AND steamid=%s\" % (appid, steamid)\n",
    "        if db_function.execute_select(sql):\n",
    "            return\n",
    "        \n",
    "        for k, v in author.items():\n",
    "            \n",
    "            if k == 'last_played':\n",
    "                v = datetime.fromtimestamp(v).strftime(\"%Y-%m-%d %H:%M:%S\")\n",
    "            need_data_dic[k] = v\n",
    "        \n",
    "        for col in need_data:\n",
    "            need_data_dic[col] = review[col]\n",
    "        \n",
    "        placeholders = ', '.join(['%s'] * len(need_data_dic))\n",
    "        columns = ', '.join(need_data_dic.keys())\n",
    "        \n",
    "        sql = \"INSERT IGNORE INTO %s ( %s ) VALUES ( %s )\" % ('review', columns, placeholders)\n",
    "        db_function.execute_insert(sql, list(need_data_dic.values()))\n"
   ]
  },
  {
   "cell_type": "code",
   "execution_count": 7,
   "id": "f9272240-ea1e-42b0-aa9f-67cdee7b3ef4",
   "metadata": {
    "collapsed": true,
    "jupyter": {
     "outputs_hidden": true
    },
    "tags": []
   },
   "outputs": [
    {
     "name": "stderr",
     "output_type": "stream",
     "text": [
      "  0%|                                                                                                                                                                                                                                                    | 0/131986 [00:00<?, ?it/s]"
     ]
    },
    {
     "name": "stdout",
     "output_type": "stream",
     "text": [
      "({'reviews': {}, 'query_summary': {'total_reviews': -1}, 'cursors': {'*': 'Thu Dec  9 15:18:20 2021'}}, 1)\n"
     ]
    },
    {
     "name": "stderr",
     "output_type": "stream",
     "text": [
      "  0%|                                                                                                                                                                                                                                        | 1/131986 [00:05<192:15:26,  5.24s/it]"
     ]
    },
    {
     "name": "stdout",
     "output_type": "stream",
     "text": [
      "({'reviews': {}, 'query_summary': {'total_reviews': -1}, 'cursors': {'*': 'Thu Dec  9 15:18:25 2021'}}, 1)\n"
     ]
    },
    {
     "name": "stderr",
     "output_type": "stream",
     "text": [
      "  0%|                                                                                                                                                                                                                                        | 2/131986 [00:10<191:57:56,  5.24s/it]"
     ]
    },
    {
     "name": "stdout",
     "output_type": "stream",
     "text": [
      "({'reviews': {}, 'query_summary': {'total_reviews': -1}, 'cursors': {'*': 'Thu Dec  9 15:18:30 2021'}}, 1)\n"
     ]
    },
    {
     "name": "stderr",
     "output_type": "stream",
     "text": [
      "  0%|                                                                                                                                                                                                                                        | 3/131986 [00:15<191:55:11,  5.23s/it]"
     ]
    },
    {
     "name": "stdout",
     "output_type": "stream",
     "text": [
      "({'reviews': {}, 'query_summary': {'total_reviews': -1}, 'cursors': {'*': 'Thu Dec  9 15:18:35 2021'}}, 1)\n"
     ]
    },
    {
     "name": "stderr",
     "output_type": "stream",
     "text": [
      "  0%|                                                                                                                                                                                                                                        | 4/131986 [00:20<192:04:18,  5.24s/it]"
     ]
    },
    {
     "name": "stdout",
     "output_type": "stream",
     "text": [
      "({'reviews': {}, 'query_summary': {'total_reviews': -1}, 'cursors': {'*': 'Thu Dec  9 15:18:41 2021'}}, 1)\n"
     ]
    },
    {
     "name": "stderr",
     "output_type": "stream",
     "text": [
      "  0%|                                                                                                                                                                                                                                        | 5/131986 [00:26<192:09:14,  5.24s/it]"
     ]
    },
    {
     "name": "stdout",
     "output_type": "stream",
     "text": [
      "({'reviews': {}, 'query_summary': {'total_reviews': -1}, 'cursors': {'*': 'Thu Dec  9 15:18:46 2021'}}, 1)\n"
     ]
    },
    {
     "name": "stderr",
     "output_type": "stream",
     "text": [
      "  0%|                                                                                                                                                                                                                                        | 6/131986 [00:31<192:04:33,  5.24s/it]"
     ]
    },
    {
     "name": "stdout",
     "output_type": "stream",
     "text": [
      "({'reviews': {}, 'query_summary': {'total_reviews': -1}, 'cursors': {'*': 'Thu Dec  9 15:18:51 2021'}}, 1)\n"
     ]
    },
    {
     "name": "stderr",
     "output_type": "stream",
     "text": [
      "  0%|                                                                                                                                                                                                                                        | 7/131986 [00:36<191:58:40,  5.24s/it]"
     ]
    },
    {
     "name": "stdout",
     "output_type": "stream",
     "text": [
      "({'reviews': {}, 'query_summary': {'total_reviews': -1}, 'cursors': {'*': 'Thu Dec  9 15:18:56 2021'}}, 1)\n"
     ]
    },
    {
     "name": "stderr",
     "output_type": "stream",
     "text": [
      "  0%|                                                                                                                                                                                                                                        | 8/131986 [00:41<192:07:03,  5.24s/it]"
     ]
    },
    {
     "name": "stdout",
     "output_type": "stream",
     "text": [
      "({'reviews': {}, 'query_summary': {'total_reviews': -1}, 'cursors': {'*': 'Thu Dec  9 15:19:02 2021'}}, 1)\n"
     ]
    },
    {
     "name": "stderr",
     "output_type": "stream",
     "text": [
      "  0%|                                                                                                                                                                                                                                        | 9/131986 [00:47<192:07:30,  5.24s/it]"
     ]
    },
    {
     "name": "stdout",
     "output_type": "stream",
     "text": [
      "({'reviews': {}, 'query_summary': {'total_reviews': -1}, 'cursors': {'*': 'Thu Dec  9 15:19:07 2021'}}, 1)\n"
     ]
    },
    {
     "name": "stderr",
     "output_type": "stream",
     "text": [
      "  0%|                                                                                                                                                                                                                                       | 10/131986 [00:52<193:57:37,  5.29s/it]"
     ]
    },
    {
     "name": "stdout",
     "output_type": "stream",
     "text": [
      "({'reviews': {}, 'query_summary': {'total_reviews': -1}, 'cursors': {'*': 'Thu Dec  9 15:19:12 2021'}}, 1)\n"
     ]
    },
    {
     "name": "stderr",
     "output_type": "stream",
     "text": [
      "  0%|                                                                                                                                                                                                                                       | 11/131986 [00:57<193:23:22,  5.28s/it]"
     ]
    },
    {
     "name": "stdout",
     "output_type": "stream",
     "text": [
      "({'reviews': {}, 'query_summary': {'total_reviews': -1}, 'cursors': {'*': 'Thu Dec  9 15:19:18 2021'}}, 1)\n"
     ]
    },
    {
     "name": "stderr",
     "output_type": "stream",
     "text": [
      "  0%|                                                                                                                                                                                                                                       | 12/131986 [01:03<192:56:38,  5.26s/it]"
     ]
    },
    {
     "name": "stdout",
     "output_type": "stream",
     "text": [
      "({'reviews': {}, 'query_summary': {'total_reviews': -1}, 'cursors': {'*': 'Thu Dec  9 15:19:23 2021'}}, 1)\n"
     ]
    },
    {
     "name": "stderr",
     "output_type": "stream",
     "text": [
      "  0%|                                                                                                                                                                                                                                       | 13/131986 [01:08<192:36:48,  5.25s/it]"
     ]
    },
    {
     "name": "stdout",
     "output_type": "stream",
     "text": [
      "({'reviews': {}, 'query_summary': {'total_reviews': -1}, 'cursors': {'*': 'Thu Dec  9 15:19:28 2021'}}, 1)\n"
     ]
    },
    {
     "name": "stderr",
     "output_type": "stream",
     "text": [
      "  0%|                                                                                                                                                                                                                                       | 14/131986 [01:13<194:04:02,  5.29s/it]"
     ]
    },
    {
     "name": "stdout",
     "output_type": "stream",
     "text": [
      "({'reviews': {}, 'query_summary': {'total_reviews': -1}, 'cursors': {'*': 'Thu Dec  9 15:19:33 2021'}}, 1)\n"
     ]
    },
    {
     "name": "stderr",
     "output_type": "stream",
     "text": [
      "  0%|                                                                                                                                                                                                                                       | 15/131986 [01:18<193:31:22,  5.28s/it]"
     ]
    },
    {
     "name": "stdout",
     "output_type": "stream",
     "text": [
      "({'reviews': {}, 'query_summary': {'total_reviews': -1}, 'cursors': {'*': 'Thu Dec  9 15:19:39 2021'}}, 1)\n"
     ]
    },
    {
     "name": "stderr",
     "output_type": "stream",
     "text": [
      "  0%|                                                                                                                                                                                                                                       | 16/131986 [01:24<193:06:21,  5.27s/it]"
     ]
    },
    {
     "name": "stdout",
     "output_type": "stream",
     "text": [
      "({'reviews': {}, 'query_summary': {'total_reviews': -1}, 'cursors': {'*': 'Thu Dec  9 15:19:44 2021'}}, 1)\n"
     ]
    },
    {
     "name": "stderr",
     "output_type": "stream",
     "text": [
      "  0%|                                                                                                                                                                                                                                       | 17/131986 [01:29<192:56:09,  5.26s/it]"
     ]
    },
    {
     "name": "stdout",
     "output_type": "stream",
     "text": [
      "({'reviews': {}, 'query_summary': {'total_reviews': -1}, 'cursors': {'*': 'Thu Dec  9 15:19:49 2021'}}, 1)\n"
     ]
    },
    {
     "name": "stderr",
     "output_type": "stream",
     "text": [
      "  0%|                                                                                                                                                                                                                                       | 18/131986 [01:34<192:42:51,  5.26s/it]"
     ]
    },
    {
     "name": "stdout",
     "output_type": "stream",
     "text": [
      "({'reviews': {}, 'query_summary': {'total_reviews': -1}, 'cursors': {'*': 'Thu Dec  9 15:19:54 2021'}}, 1)\n"
     ]
    },
    {
     "name": "stderr",
     "output_type": "stream",
     "text": [
      "  0%|                                                                                                                                                                                                                                       | 19/131986 [01:39<192:43:59,  5.26s/it]"
     ]
    },
    {
     "name": "stdout",
     "output_type": "stream",
     "text": [
      "({'reviews': {}, 'query_summary': {'total_reviews': -1}, 'cursors': {'*': 'Thu Dec  9 15:20:00 2021'}}, 1)\n"
     ]
    },
    {
     "name": "stderr",
     "output_type": "stream",
     "text": [
      "  0%|                                                                                                                                                                                                                                       | 20/131986 [01:45<193:54:47,  5.29s/it]"
     ]
    },
    {
     "name": "stdout",
     "output_type": "stream",
     "text": [
      "({'reviews': {}, 'query_summary': {'total_reviews': -1}, 'cursors': {'*': 'Thu Dec  9 15:20:05 2021'}}, 1)\n"
     ]
    },
    {
     "name": "stderr",
     "output_type": "stream",
     "text": [
      "  0%|                                                                                                                                                                                                                                       | 21/131986 [01:50<193:26:06,  5.28s/it]"
     ]
    },
    {
     "name": "stdout",
     "output_type": "stream",
     "text": [
      "({'reviews': {}, 'query_summary': {'total_reviews': -1}, 'cursors': {'*': 'Thu Dec  9 15:20:10 2021'}}, 1)\n"
     ]
    },
    {
     "name": "stderr",
     "output_type": "stream",
     "text": [
      "  0%|                                                                                                                                                                                                                                       | 22/131986 [01:55<193:01:10,  5.27s/it]"
     ]
    },
    {
     "name": "stdout",
     "output_type": "stream",
     "text": [
      "({'reviews': {}, 'query_summary': {'total_reviews': -1}, 'cursors': {'*': 'Thu Dec  9 15:20:15 2021'}}, 1)\n"
     ]
    },
    {
     "name": "stderr",
     "output_type": "stream",
     "text": [
      "  0%|                                                                                                                                                                                                                                       | 23/131986 [02:00<192:39:17,  5.26s/it]"
     ]
    },
    {
     "name": "stdout",
     "output_type": "stream",
     "text": [
      "({'reviews': {}, 'query_summary': {'total_reviews': -1}, 'cursors': {'*': 'Thu Dec  9 15:20:21 2021'}}, 1)\n"
     ]
    },
    {
     "name": "stderr",
     "output_type": "stream",
     "text": [
      "  0%|                                                                                                                                                                                                                                       | 24/131986 [02:06<192:45:15,  5.26s/it]"
     ]
    },
    {
     "name": "stdout",
     "output_type": "stream",
     "text": [
      "({'reviews': {}, 'query_summary': {'total_reviews': -1}, 'cursors': {'*': 'Thu Dec  9 15:20:26 2021'}}, 1)\n"
     ]
    },
    {
     "name": "stderr",
     "output_type": "stream",
     "text": [
      "  0%|                                                                                                                                                                                                                                       | 25/131986 [02:11<192:43:39,  5.26s/it]"
     ]
    },
    {
     "name": "stdout",
     "output_type": "stream",
     "text": [
      "({'reviews': {}, 'query_summary': {'total_reviews': -1}, 'cursors': {'*': 'Thu Dec  9 15:20:31 2021'}}, 1)\n"
     ]
    },
    {
     "name": "stderr",
     "output_type": "stream",
     "text": [
      "  0%|                                                                                                                                                                                                                                       | 26/131986 [02:16<192:39:12,  5.26s/it]"
     ]
    },
    {
     "name": "stdout",
     "output_type": "stream",
     "text": [
      "({'reviews': {}, 'query_summary': {'total_reviews': -1}, 'cursors': {'*': 'Thu Dec  9 15:20:36 2021'}}, 1)\n"
     ]
    },
    {
     "name": "stderr",
     "output_type": "stream",
     "text": [
      "  0%|                                                                                                                                                                                                                                       | 27/131986 [02:21<192:34:37,  5.25s/it]"
     ]
    },
    {
     "name": "stdout",
     "output_type": "stream",
     "text": [
      "({'reviews': {}, 'query_summary': {'total_reviews': -1}, 'cursors': {'*': 'Thu Dec  9 15:20:42 2021'}}, 1)\n"
     ]
    },
    {
     "name": "stderr",
     "output_type": "stream",
     "text": [
      "  0%|                                                                                                                                                                                                                                       | 28/131986 [02:27<192:38:24,  5.26s/it]"
     ]
    },
    {
     "name": "stdout",
     "output_type": "stream",
     "text": [
      "({'reviews': {}, 'query_summary': {'total_reviews': -1}, 'cursors': {'*': 'Thu Dec  9 15:20:47 2021'}}, 1)\n"
     ]
    },
    {
     "name": "stderr",
     "output_type": "stream",
     "text": [
      "  0%|                                                                                                                                                                                                                                       | 29/131986 [02:32<192:42:34,  5.26s/it]"
     ]
    },
    {
     "name": "stdout",
     "output_type": "stream",
     "text": [
      "[appID = 1823440] expected #reviews = 51\n",
      "({'reviews': {'105469251': {'recommendationid': '105469251', 'author': {'steamid': '76561198840222948', 'num_games_owned': 47, 'num_reviews': 18, 'playtime_forever': 0, 'playtime_last_two_weeks': 0, 'last_played': 0}, 'language': 'koreana', 'review': '흥이 노팬티임ㄷㄷ', 'timestamp_created': 1638977996, 'timestamp_updated': 1638977996, 'voted_up': True, 'votes_up': 0, 'votes_funny': 0, 'weighted_vote_score': 0, 'comment_count': 0, 'steam_purchase': True, 'received_for_free': False, 'written_during_early_access': False}, '105402298': {'recommendationid': '105402298', 'author': {'steamid': '76561198263908450', 'num_games_owned': 41, 'num_reviews': 1, 'playtime_forever': 0, 'playtime_last_two_weeks': 0, 'last_played': 0}, 'language': 'koreana', 'review': '음머', 'timestamp_created': 1638876125, 'timestamp_updated': 1638876125, 'voted_up': True, 'votes_up': 0, 'votes_funny': 0, 'weighted_vote_score': 0, 'comment_count': 0, 'steam_purchase': True, 'received_for_free': False, 'written_during_early_access': False}, '105397538': {'recommendationid': '105397538', 'author': {'steamid': '76561198395177800', 'num_games_owned': 33, 'num_reviews': 1, 'playtime_forever': 0, 'playtime_last_two_weeks': 0, 'last_played': 0}, 'language': 'koreana', 'review': '서버비 납부 완료', 'timestamp_created': 1638866886, 'timestamp_updated': 1638866886, 'voted_up': True, 'votes_up': 0, 'votes_funny': 0, 'weighted_vote_score': 0, 'comment_count': 0, 'steam_purchase': True, 'received_for_free': False, 'written_during_early_access': False}, '105299291': {'recommendationid': '105299291', 'author': {'steamid': '76561198364096264', 'num_games_owned': 44, 'num_reviews': 6, 'playtime_forever': 0, 'playtime_last_two_weeks': 0, 'last_played': 0}, 'language': 'koreana', 'review': '서버비 입금완료', 'timestamp_created': 1638718318, 'timestamp_updated': 1638718318, 'voted_up': True, 'votes_up': 0, 'votes_funny': 0, 'weighted_vote_score': 0, 'comment_count': 0, 'steam_purchase': True, 'received_for_free': False, 'written_during_early_access': False}, '105296583': {'recommendationid': '105296583', 'author': {'steamid': '76561198279094679', 'num_games_owned': 74, 'num_reviews': 13, 'playtime_forever': 0, 'playtime_last_two_weeks': 0, 'last_played': 0}, 'language': 'koreana', 'review': '오늘도 서버비 납부~!', 'timestamp_created': 1638715748, 'timestamp_updated': 1638715748, 'voted_up': True, 'votes_up': 0, 'votes_funny': 0, 'weighted_vote_score': 0, 'comment_count': 0, 'steam_purchase': True, 'received_for_free': False, 'written_during_early_access': False}, '105277541': {'recommendationid': '105277541', 'author': {'steamid': '76561197973597426', 'num_games_owned': 58, 'num_reviews': 3, 'playtime_forever': 0, 'playtime_last_two_weeks': 0, 'last_played': 0}, 'language': 'koreana', 'review': '서버비 선납 완료', 'timestamp_created': 1638695674, 'timestamp_updated': 1638695674, 'voted_up': True, 'votes_up': 0, 'votes_funny': 0, 'weighted_vote_score': 0, 'comment_count': 0, 'steam_purchase': True, 'received_for_free': False, 'written_during_early_access': False}, '105269693': {'recommendationid': '105269693', 'author': {'steamid': '76561198885786575', 'num_games_owned': 23, 'num_reviews': 12, 'playtime_forever': 0, 'playtime_last_two_weeks': 0, 'last_played': 0}, 'language': 'koreana', 'review': '이번 빌런 노트는 이거다', 'timestamp_created': 1638685378, 'timestamp_updated': 1638685378, 'voted_up': True, 'votes_up': 0, 'votes_funny': 0, 'weighted_vote_score': 0, 'comment_count': 0, 'steam_purchase': True, 'received_for_free': False, 'written_during_early_access': False}, '105262020': {'recommendationid': '105262020', 'author': {'steamid': '76561198079696191', 'num_games_owned': 840, 'num_reviews': 132, 'playtime_forever': 0, 'playtime_last_two_weeks': 0, 'last_played': 0}, 'language': 'koreana', 'review': '买都买了，骂两句很合理吧？', 'timestamp_created': 1638675201, 'timestamp_updated': 1638675201, 'voted_up': False, 'votes_up': 0, 'votes_funny': 0, 'weighted_vote_score': '0.454545468091964722', 'comment_count': 0, 'steam_purchase': True, 'received_for_free': False, 'written_during_early_access': False}, '105259969': {'recommendationid': '105259969', 'author': {'steamid': '76561198338395415', 'num_games_owned': 36, 'num_reviews': 18, 'playtime_forever': 0, 'playtime_last_two_weeks': 0, 'last_played': 0}, 'language': 'koreana', 'review': '음머', 'timestamp_created': 1638672544, 'timestamp_updated': 1638672544, 'voted_up': True, 'votes_up': 0, 'votes_funny': 1, 'weighted_vote_score': 0, 'comment_count': 0, 'steam_purchase': True, 'received_for_free': False, 'written_during_early_access': False}, '105257368': {'recommendationid': '105257368', 'author': {'steamid': '76561198048917027', 'num_games_owned': 167, 'num_reviews': 90, 'playtime_forever': 0, 'playtime_last_two_weeks': 0, 'last_played': 0}, 'language': 'koreana', 'review': '클리어패스 나오는 족족 다 샀던거 같은데\\n살지말지 고민해본적은 이번이 처음인듯\\n[spoiler]얼마나 아이디어가 없었으면 달고나 이모티콘이 나오냐고 ㅋㅋㅋㅋㅋ[/spoiler]\\n\\n그래도 흑우니까 서버비 입금해야지...', 'timestamp_created': 1638669075, 'timestamp_updated': 1638669075, 'voted_up': True, 'votes_up': 1, 'votes_funny': 0, 'weighted_vote_score': '0.523809552192687988', 'comment_count': 0, 'steam_purchase': True, 'received_for_free': False, 'written_during_early_access': False}, '105229365': {'recommendationid': '105229365', 'author': {'steamid': '76561198025037550', 'num_games_owned': 146, 'num_reviews': 22, 'playtime_forever': 0, 'playtime_last_two_weeks': 0, 'last_played': 0}, 'language': 'koreana', 'review': '사', 'timestamp_created': 1638638287, 'timestamp_updated': 1638638287, 'voted_up': True, 'votes_up': 0, 'votes_funny': 0, 'weighted_vote_score': 0, 'comment_count': 0, 'steam_purchase': True, 'received_for_free': False, 'written_during_early_access': False}, '105181281': {'recommendationid': '105181281', 'author': {'steamid': '76561198076589093', 'num_games_owned': 310, 'num_reviews': 2, 'playtime_forever': 0, 'playtime_last_two_weeks': 0, 'last_played': 0}, 'language': 'koreana', 'review': '이번에도 서버비 납부하였습니다\\n음머어~~~', 'timestamp_created': 1638585438, 'timestamp_updated': 1638585438, 'voted_up': True, 'votes_up': 0, 'votes_funny': 0, 'weighted_vote_score': 0, 'comment_count': 0, 'steam_purchase': True, 'received_for_free': False, 'written_during_early_access': False}, '105177037': {'recommendationid': '105177037', 'author': {'steamid': '76561198341736330', 'num_games_owned': 109, 'num_reviews': 4, 'playtime_forever': 0, 'playtime_last_two_weeks': 0, 'last_played': 0}, 'language': 'koreana', 'review': '이번달에도 서버비를 납부.. 클리어 부스터랑 함께,,,', 'timestamp_created': 1638579783, 'timestamp_updated': 1638579783, 'voted_up': True, 'votes_up': 0, 'votes_funny': 0, 'weighted_vote_score': 0, 'comment_count': 0, 'steam_purchase': True, 'received_for_free': False, 'written_during_early_access': False}, '105157919': {'recommendationid': '105157919', 'author': {'steamid': '76561198161300214', 'num_games_owned': 91, 'num_reviews': 13, 'playtime_forever': 0, 'playtime_last_two_weeks': 0, 'last_played': 0}, 'language': 'koreana', 'review': '꿀꿀캥캥 쿠엑쿠엑멍멍', 'timestamp_created': 1638557628, 'timestamp_updated': 1638557628, 'voted_up': True, 'votes_up': 0, 'votes_funny': 0, 'weighted_vote_score': 0, 'comment_count': 0, 'steam_purchase': True, 'received_for_free': False, 'written_during_early_access': False}, '105136096': {'recommendationid': '105136096', 'author': {'steamid': '76561198214157399', 'num_games_owned': 85, 'num_reviews': 25, 'playtime_forever': 0, 'playtime_last_two_weeks': 0, 'last_played': 0}, 'language': 'koreana', 'review': '서버비', 'timestamp_created': 1638534903, 'timestamp_updated': 1638534903, 'voted_up': True, 'votes_up': 0, 'votes_funny': 0, 'weighted_vote_score': 0, 'comment_count': 0, 'steam_purchase': True, 'received_for_free': False, 'written_during_early_access': False}, '105134635': {'recommendationid': '105134635', 'author': {'steamid': '76561198870949609', 'num_games_owned': 57, 'num_reviews': 7, 'playtime_forever': 0, 'playtime_last_two_weeks': 0, 'last_played': 0}, 'language': 'koreana', 'review': '전 개돼지입니다', 'timestamp_created': 1638533141, 'timestamp_updated': 1638533141, 'voted_up': True, 'votes_up': 2, 'votes_funny': 1, 'weighted_vote_score': '0.545454561710357666', 'comment_count': 0, 'steam_purchase': True, 'received_for_free': False, 'written_during_early_access': False}, '105132969': {'recommendationid': '105132969', 'author': {'steamid': '76561198061542075', 'num_games_owned': 85, 'num_reviews': 12, 'playtime_forever': 0, 'playtime_last_two_weeks': 0, 'last_played': 0}, 'language': 'koreana', 'review': '아 이걸 또 사네', 'timestamp_created': 1638531053, 'timestamp_updated': 1638531053, 'voted_up': True, 'votes_up': 0, 'votes_funny': 0, 'weighted_vote_score': 0, 'comment_count': 0, 'steam_purchase': True, 'received_for_free': False, 'written_during_early_access': False}, '105131762': {'recommendationid': '105131762', 'author': {'steamid': '76561198988252468', 'num_games_owned': 18, 'num_reviews': 3, 'playtime_forever': 0, 'playtime_last_two_weeks': 0, 'last_played': 0}, 'language': 'koreana', 'review': '매번 패스 살 때 마다 기어스킨을 젤 기대하는데.. 아쉬워요 ㅠㅠ 언제나 그림은 이뻐요!', 'timestamp_created': 1638529311, 'timestamp_updated': 1638529311, 'voted_up': True, 'votes_up': 0, 'votes_funny': 0, 'weighted_vote_score': 0, 'comment_count': 0, 'steam_purchase': True, 'received_for_free': False, 'written_during_early_access': False}, '105125762': {'recommendationid': '105125762', 'author': {'steamid': '76561198551303948', 'num_games_owned': 75, 'num_reviews': 9, 'playtime_forever': 0, 'playtime_last_two_weeks': 0, 'last_played': 0}, 'language': 'koreana', 'review': '익텐2 1월중 출시 기원', 'timestamp_created': 1638520211, 'timestamp_updated': 1638520211, 'voted_up': True, 'votes_up': 0, 'votes_funny': 0, 'weighted_vote_score': '0.476190477609634399', 'comment_count': 0, 'steam_purchase': True, 'received_for_free': False, 'written_during_early_access': False}, '105112711': {'recommendationid': '105112711', 'author': {'steamid': '76561198115557896', 'num_games_owned': 179, 'num_reviews': 41, 'playtime_forever': 0, 'playtime_last_two_weeks': 0, 'last_played': 0}, 'language': 'koreana', 'review': '10레벨 무료보상 피버 사운드 BELL 만 빼고 나머지 보상에 만족합니다', 'timestamp_created': 1638499552, 'timestamp_updated': 1638499552, 'voted_up': True, 'votes_up': 0, 'votes_funny': 0, 'weighted_vote_score': 0, 'comment_count': 0, 'steam_purchase': False, 'received_for_free': False, 'written_during_early_access': False}, '105080816': {'recommendationid': '105080816', 'author': {'steamid': '76561198117915883', 'num_games_owned': 306, 'num_reviews': 27, 'playtime_forever': 0, 'playtime_last_two_weeks': 0, 'last_played': 0}, 'language': 'koreana', 'review': '나는 흑우다... 오늘도 낸다... 디맥 서버비를... 음머...', 'timestamp_created': 1638461891, 'timestamp_updated': 1638461891, 'voted_up': True, 'votes_up': 0, 'votes_funny': 0, 'weighted_vote_score': 0, 'comment_count': 0, 'steam_purchase': True, 'received_for_free': False, 'written_during_early_access': False}, '105075370': {'recommendationid': '105075370', 'author': {'steamid': '76561198244360292', 'num_games_owned': 288, 'num_reviews': 9, 'playtime_forever': 0, 'playtime_last_two_weeks': 0, 'last_played': 0}, 'language': 'koreana', 'review': '서버비 음머~', 'timestamp_created': 1638456461, 'timestamp_updated': 1638456461, 'voted_up': True, 'votes_up': 0, 'votes_funny': 0, 'weighted_vote_score': 0, 'comment_count': 0, 'steam_purchase': True, 'received_for_free': False, 'written_during_early_access': False}, '105074355': {'recommendationid': '105074355', 'author': {'steamid': '76561198171774263', 'num_games_owned': 105, 'num_reviews': 19, 'playtime_forever': 0, 'playtime_last_two_weeks': 0, 'last_played': 0}, 'language': 'koreana', 'review': '이걸 어떻게 참아ㅋㅋ', 'timestamp_created': 1638455403, 'timestamp_updated': 1638455403, 'voted_up': True, 'votes_up': 0, 'votes_funny': 0, 'weighted_vote_score': 0, 'comment_count': 0, 'steam_purchase': True, 'received_for_free': False, 'written_during_early_access': False}, '105071167': {'recommendationid': '105071167', 'author': {'steamid': '76561198000492766', 'num_games_owned': 60, 'num_reviews': 1, 'playtime_forever': 0, 'playtime_last_two_weeks': 0, 'last_played': 0}, 'language': 'koreana', 'review': '서버비다 이기야', 'timestamp_created': 1638452269, 'timestamp_updated': 1638452269, 'voted_up': True, 'votes_up': 2, 'votes_funny': 1, 'weighted_vote_score': '0.461538463830947876', 'comment_count': 0, 'steam_purchase': True, 'received_for_free': False, 'written_during_early_access': False}, '105069167': {'recommendationid': '105069167', 'author': {'steamid': '76561198815053769', 'num_games_owned': 5, 'num_reviews': 1, 'playtime_forever': 0, 'playtime_last_two_weeks': 0, 'last_played': 0}, 'language': 'koreana', 'review': '사지마셈', 'timestamp_created': 1638450028, 'timestamp_updated': 1638450028, 'voted_up': True, 'votes_up': 4, 'votes_funny': 0, 'weighted_vote_score': '0.575342416763305664', 'comment_count': 0, 'steam_purchase': True, 'received_for_free': False, 'written_during_early_access': False}, '105067963': {'recommendationid': '105067963', 'author': {'steamid': '76561197968120049', 'num_games_owned': 835, 'num_reviews': 79, 'playtime_forever': 0, 'playtime_last_two_weeks': 0, 'last_played': 0}, 'language': 'koreana', 'review': '장점\\n- 테마이쁨\\n\\n단점\\n-기어스킨 똥망\\n\\n아니, 시즌2, 시즌3 기어스킨 그렇게 잘 뽑아놓고, 이번 기어스킨 역대급 똥망 디자인으로 내놓았네...\\n알록달록해서 눈이 아픈데 이쁘지도 않고, 실용성이 있는거도 아니고... 컨셉에 매몰되어 망한 디자인입니다. \\n그나마 테마는 건졌지만, 테마 하나에 만원 넘게 주고 산다고 생각해보니 가성비 넘 구리네요.', 'timestamp_created': 1638448641, 'timestamp_updated': 1638536983, 'voted_up': False, 'votes_up': 3, 'votes_funny': 0, 'weighted_vote_score': '0.520146489143371582', 'comment_count': 0, 'steam_purchase': True, 'received_for_free': False, 'written_during_early_access': False}, '105066453': {'recommendationid': '105066453', 'author': {'steamid': '76561199116860546', 'num_games_owned': 12, 'num_reviews': 2, 'playtime_forever': 0, 'playtime_last_two_weeks': 0, 'last_played': 0}, 'language': 'koreana', 'review': '헤으응...', 'timestamp_created': 1638446707, 'timestamp_updated': 1638446707, 'voted_up': True, 'votes_up': 1, 'votes_funny': 0, 'weighted_vote_score': '0.508196711540222168', 'comment_count': 0, 'steam_purchase': True, 'received_for_free': False, 'written_during_early_access': False}, '105064894': {'recommendationid': '105064894', 'author': {'steamid': '76561198018245704', 'num_games_owned': 149, 'num_reviews': 25, 'playtime_forever': 0, 'playtime_last_two_weeks': 0, 'last_played': 0}, 'language': 'koreana', 'review': '서버비', 'timestamp_created': 1638444734, 'timestamp_updated': 1638444734, 'voted_up': True, 'votes_up': 2, 'votes_funny': 1, 'weighted_vote_score': '0.53125', 'comment_count': 0, 'steam_purchase': True, 'received_for_free': False, 'written_during_early_access': False}, '105062419': {'recommendationid': '105062419', 'author': {'steamid': '76561198133079438', 'num_games_owned': 11, 'num_reviews': 1, 'playtime_forever': 0, 'playtime_last_two_weeks': 0, 'last_played': 0}, 'language': 'koreana', 'review': '음머어', 'timestamp_created': 1638441143, 'timestamp_updated': 1638441143, 'voted_up': True, 'votes_up': 1, 'votes_funny': 0, 'weighted_vote_score': '0.508196711540222168', 'comment_count': 0, 'steam_purchase': True, 'received_for_free': False, 'written_during_early_access': False}, '105061571': {'recommendationid': '105061571', 'author': {'steamid': '76561198430176913', 'num_games_owned': 33, 'num_reviews': 2, 'playtime_forever': 0, 'playtime_last_two_weeks': 0, 'last_played': 0}, 'language': 'koreana', 'review': '서버비 냈으니까 무료곡 또 \"내줘\"', 'timestamp_created': 1638439793, 'timestamp_updated': 1638439793, 'voted_up': True, 'votes_up': 3, 'votes_funny': 1, 'weighted_vote_score': '0.530401051044464111', 'comment_count': 0, 'steam_purchase': True, 'received_for_free': False, 'written_during_early_access': False}, '105060086': {'recommendationid': '105060086', 'author': {'steamid': '76561198447653393', 'num_games_owned': 80, 'num_reviews': 16, 'playtime_forever': 0, 'playtime_last_two_weeks': 0, 'last_played': 0}, 'language': 'koreana', 'review': '이번엔 꼭 다이아.', 'timestamp_created': 1638437499, 'timestamp_updated': 1638437499, 'voted_up': True, 'votes_up': 0, 'votes_funny': 0, 'weighted_vote_score': 0, 'comment_count': 0, 'steam_purchase': True, 'received_for_free': False, 'written_during_early_access': False}, '105059857': {'recommendationid': '105059857', 'author': {'steamid': '76561198025822250', 'num_games_owned': 13, 'num_reviews': 1, 'playtime_forever': 0, 'playtime_last_two_weeks': 0, 'last_played': 0}, 'language': 'koreana', 'review': '멍멍꿀꿀', 'timestamp_created': 1638437155, 'timestamp_updated': 1638437155, 'voted_up': True, 'votes_up': 0, 'votes_funny': 0, 'weighted_vote_score': 0, 'comment_count': 0, 'steam_purchase': True, 'received_for_free': False, 'written_during_early_access': False}, '105057528': {'recommendationid': '105057528', 'author': {'steamid': '76561198216696735', 'num_games_owned': 507, 'num_reviews': 103, 'playtime_forever': 0, 'playtime_last_two_weeks': 0, 'last_played': 0}, 'language': 'koreana', 'review': '이번 기어스킨 왜케 안이쁜데 초심 잃었나?\\n그래도 다른 흥망이 플레이트나 아이콘 이뻐서 봐준다.\\n특히 어나더데이 클리어나 고양이 흥망이는 너무너무 이쁨\\n\\n크리스마스 기어 띡 하고 달아보면 무슨 오투잼하는 느낌이남 암튼 구려요\\n다른 그림들은 이번에도 꽤 갈아넣은 느낌이라 좋아요!\\n추천합니다. 왜냐면 저는 호구거든요 부스터팩 세트로 그냥 지갑 오픈업이야', 'timestamp_created': 1638433357, 'timestamp_updated': 1638433357, 'voted_up': True, 'votes_up': 13, 'votes_funny': 2, 'weighted_vote_score': '0.67264401912689209', 'comment_count': 0, 'steam_purchase': True, 'received_for_free': False, 'written_during_early_access': False}, '105057388': {'recommendationid': '105057388', 'author': {'steamid': '76561198820177028', 'num_games_owned': 60, 'num_reviews': 30, 'playtime_forever': 0, 'playtime_last_two_weeks': 0, 'last_played': 0}, 'language': 'koreana', 'review': '허허.....', 'timestamp_created': 1638433106, 'timestamp_updated': 1638433106, 'voted_up': True, 'votes_up': 1, 'votes_funny': 0, 'weighted_vote_score': '0.523809552192687988', 'comment_count': 0, 'steam_purchase': True, 'received_for_free': False, 'written_during_early_access': False}, '105056405': {'recommendationid': '105056405', 'author': {'steamid': '76561198344328390', 'num_games_owned': 79, 'num_reviews': 7, 'playtime_forever': 0, 'playtime_last_two_weeks': 0, 'last_played': 0}, 'language': 'koreana', 'review': '크리스마스 테마는 못참지 음머~', 'timestamp_created': 1638431327, 'timestamp_updated': 1638431327, 'voted_up': True, 'votes_up': 0, 'votes_funny': 0, 'weighted_vote_score': 0, 'comment_count': 0, 'steam_purchase': True, 'received_for_free': False, 'written_during_early_access': False}, '105055616': {'recommendationid': '105055616', 'author': {'steamid': '76561198809116140', 'num_games_owned': 18, 'num_reviews': 3, 'playtime_forever': 0, 'playtime_last_two_weeks': 0, 'last_played': 0}, 'language': 'koreana', 'review': '네오위즈야 돈 받아라 멍 꿀~~~~~~~~~~', 'timestamp_created': 1638429943, 'timestamp_updated': 1638429943, 'voted_up': True, 'votes_up': 0, 'votes_funny': 0, 'weighted_vote_score': 0, 'comment_count': 0, 'steam_purchase': True, 'received_for_free': False, 'written_during_early_access': False}, '105055211': {'recommendationid': '105055211', 'author': {'steamid': '76561199089871178', 'num_games_owned': 38, 'num_reviews': 39, 'playtime_forever': 0, 'playtime_last_two_weeks': 0, 'last_played': 0}, 'language': 'koreana', 'review': '이건 못참지~', 'timestamp_created': 1638429300, 'timestamp_updated': 1638429300, 'voted_up': True, 'votes_up': 0, 'votes_funny': 0, 'weighted_vote_score': 0, 'comment_count': 0, 'steam_purchase': True, 'received_for_free': False, 'written_during_early_access': False}, '105055052': {'recommendationid': '105055052', 'author': {'steamid': '76561198383063175', 'num_games_owned': 168, 'num_reviews': 14, 'playtime_forever': 0, 'playtime_last_two_weeks': 0, 'last_played': 0}, 'language': 'koreana', 'review': '흑우뱃지...!! 흑우뱃지...!!', 'timestamp_created': 1638429031, 'timestamp_updated': 1638429031, 'voted_up': True, 'votes_up': 0, 'votes_funny': 0, 'weighted_vote_score': 0, 'comment_count': 0, 'steam_purchase': True, 'received_for_free': False, 'written_during_early_access': False}, '105054392': {'recommendationid': '105054392', 'author': {'steamid': '76561198082565864', 'num_games_owned': 41, 'num_reviews': 13, 'playtime_forever': 0, 'playtime_last_two_weeks': 0, 'last_played': 0}, 'language': 'koreana', 'review': '오늘도 서버비를 납부하는 나', 'timestamp_created': 1638427814, 'timestamp_updated': 1638427814, 'voted_up': True, 'votes_up': 6, 'votes_funny': 1, 'weighted_vote_score': '0.60120844841003418', 'comment_count': 0, 'steam_purchase': True, 'received_for_free': False, 'written_during_early_access': False}, '105054067': {'recommendationid': '105054067', 'author': {'steamid': '76561198073198636', 'num_games_owned': 877, 'num_reviews': 272, 'playtime_forever': 0, 'playtime_last_two_weeks': 0, 'last_played': 0}, 'language': 'koreana', 'review': '아 ㅋㅋ 부스터까지 살뻔했는데 잘 참았다고\\n이득이라고 ㅋㅋ', 'timestamp_created': 1638427249, 'timestamp_updated': 1638427249, 'voted_up': True, 'votes_up': 0, 'votes_funny': 0, 'weighted_vote_score': 0, 'comment_count': 0, 'steam_purchase': True, 'received_for_free': False, 'written_during_early_access': False}, '105053817': {'recommendationid': '105053817', 'author': {'steamid': '76561199068958003', 'num_games_owned': 9, 'num_reviews': 3, 'playtime_forever': 0, 'playtime_last_two_weeks': 0, 'last_played': 0}, 'language': 'koreana', 'review': 'ㄸㅈㄴ ^^b', 'timestamp_created': 1638426813, 'timestamp_updated': 1638426813, 'voted_up': True, 'votes_up': 0, 'votes_funny': 0, 'weighted_vote_score': 0, 'comment_count': 0, 'steam_purchase': True, 'received_for_free': False, 'written_during_early_access': False}, '105053641': {'recommendationid': '105053641', 'author': {'steamid': '76561198806372492', 'num_games_owned': 53, 'num_reviews': 5, 'playtime_forever': 0, 'playtime_last_two_weeks': 0, 'last_played': 0}, 'language': 'koreana', 'review': '시즌4도 가보자고', 'timestamp_created': 1638426475, 'timestamp_updated': 1638426475, 'voted_up': True, 'votes_up': 0, 'votes_funny': 0, 'weighted_vote_score': 0, 'comment_count': 0, 'steam_purchase': True, 'received_for_free': False, 'written_during_early_access': False}, '105053570': {'recommendationid': '105053570', 'author': {'steamid': '76561198282317015', 'num_games_owned': 775, 'num_reviews': 22, 'playtime_forever': 0, 'playtime_last_two_weeks': 0, 'last_played': 0}, 'language': 'koreana', 'review': '흥망보비고', 'timestamp_created': 1638426354, 'timestamp_updated': 1638426354, 'voted_up': True, 'votes_up': 24, 'votes_funny': 7, 'weighted_vote_score': '0.737797915935516357', 'comment_count': 1, 'steam_purchase': True, 'received_for_free': False, 'written_during_early_access': False}, '105052949': {'recommendationid': '105052949', 'author': {'steamid': '76561198083703185', 'num_games_owned': 54, 'num_reviews': 5, 'playtime_forever': 0, 'playtime_last_two_weeks': 0, 'last_played': 0}, 'language': 'koreana', 'review': '흥이포유! 망이포유!', 'timestamp_created': 1638425374, 'timestamp_updated': 1638425631, 'voted_up': True, 'votes_up': 0, 'votes_funny': 0, 'weighted_vote_score': 0, 'comment_count': 0, 'steam_purchase': True, 'received_for_free': False, 'written_during_early_access': False}, '105052639': {'recommendationid': '105052639', 'author': {'steamid': '76561198108659934', 'num_games_owned': 365, 'num_reviews': 15, 'playtime_forever': 0, 'playtime_last_two_weeks': 0, 'last_played': 0}, 'language': 'koreana', 'review': '음머', 'timestamp_created': 1638424924, 'timestamp_updated': 1638424924, 'voted_up': True, 'votes_up': 0, 'votes_funny': 0, 'weighted_vote_score': 0, 'comment_count': 0, 'steam_purchase': True, 'received_for_free': False, 'written_during_early_access': False}, '105052587': {'recommendationid': '105052587', 'author': {'steamid': '76561198240035336', 'num_games_owned': 86, 'num_reviews': 55, 'playtime_forever': 0, 'playtime_last_two_weeks': 0, 'last_played': 0}, 'language': 'koreana', 'review': ' [h1]내 지갑은 언제나 준비 되어 있다. [/h1]', 'timestamp_created': 1638424840, 'timestamp_updated': 1638424840, 'voted_up': True, 'votes_up': 0, 'votes_funny': 0, 'weighted_vote_score': 0, 'comment_count': 0, 'steam_purchase': True, 'received_for_free': False, 'written_during_early_access': False}, '105052360': {'recommendationid': '105052360', 'author': {'steamid': '76561199119822191', 'num_games_owned': 5, 'num_reviews': 8, 'playtime_forever': 0, 'playtime_last_two_weeks': 0, 'last_played': 0}, 'language': 'koreana', 'review': '일단 사고 고민해볼게요!', 'timestamp_created': 1638424455, 'timestamp_updated': 1638424455, 'voted_up': True, 'votes_up': 0, 'votes_funny': 0, 'weighted_vote_score': 0, 'comment_count': 0, 'steam_purchase': True, 'received_for_free': False, 'written_during_early_access': False}, '105052259': {'recommendationid': '105052259', 'author': {'steamid': '76561198287693716', 'num_games_owned': 80, 'num_reviews': 16, 'playtime_forever': 0, 'playtime_last_two_weeks': 0, 'last_played': 0}, 'language': 'koreana', 'review': '올해 겨울 시즌패스가 왔습니다.\\n\\n온리포유를 기본베이스로 한 시즌패스이기에 비주얼만큼은 최고입니다.\\n\\n개인적으로 이쁘게 잘뽑혀나온 여름패스와 동급이네요.\\n\\n이번시즌에도 삽니다. 충성충성^^7', 'timestamp_created': 1638424242, 'timestamp_updated': 1638424242, 'voted_up': True, 'votes_up': 0, 'votes_funny': 0, 'weighted_vote_score': 0, 'comment_count': 0, 'steam_purchase': True, 'received_for_free': False, 'written_during_early_access': False}, '105051542': {'recommendationid': '105051542', 'author': {'steamid': '76561198104618117', 'num_games_owned': 123, 'num_reviews': 7, 'playtime_forever': 0, 'playtime_last_two_weeks': 0, 'last_played': 0}, 'language': 'koreana', 'review': '산타 흥이 겨드랑이 wwwwwwww', 'timestamp_created': 1638423059, 'timestamp_updated': 1638423059, 'voted_up': True, 'votes_up': 0, 'votes_funny': 0, 'weighted_vote_score': 0, 'comment_count': 0, 'steam_purchase': True, 'received_for_free': False, 'written_during_early_access': False}, '105051270': {'recommendationid': '105051270', 'author': {'steamid': '76561198182083733', 'num_games_owned': 1256, 'num_reviews': 182, 'playtime_forever': 0, 'playtime_last_two_weeks': 0, 'last_played': 0}, 'language': 'koreana', 'review': '구매완료', 'timestamp_created': 1638422603, 'timestamp_updated': 1638422603, 'voted_up': True, 'votes_up': 0, 'votes_funny': 0, 'weighted_vote_score': 0, 'comment_count': 0, 'steam_purchase': True, 'received_for_free': False, 'written_during_early_access': False}, '105050534': {'recommendationid': '105050534', 'author': {'steamid': '76561198037435939', 'num_games_owned': 241, 'num_reviews': 63, 'playtime_forever': 0, 'playtime_last_two_weeks': 0, 'last_played': 0}, 'language': 'koreana', 'review': '댕댕이 흥이버젼을 참을 수 있는게 그게 가능한거냐?', 'timestamp_created': 1638421366, 'timestamp_updated': 1638421366, 'voted_up': True, 'votes_up': 0, 'votes_funny': 0, 'weighted_vote_score': 0, 'comment_count': 0, 'steam_purchase': True, 'received_for_free': False, 'written_during_early_access': False}}, 'query_summary': {'num_reviews': 51, 'review_score': 8, 'review_score_desc': 'Very Positive', 'total_positive': 49, 'total_negative': 2, 'total_reviews': 51}, 'cursors': {'AoJwz8DhvP0CdprekAM=': 'Thu Dec  9 15:20:52 2021'}}, 1)\n"
     ]
    },
    {
     "name": "stderr",
     "output_type": "stream",
     "text": [
      "  0%|                                                                                                                                                                                                                                       | 30/131986 [02:37<192:52:50,  5.26s/it]"
     ]
    },
    {
     "name": "stdout",
     "output_type": "stream",
     "text": [
      "[appID = 1823441] expected #reviews = 6\n",
      "({'reviews': {'105388870': {'recommendationid': '105388870', 'author': {'steamid': '76561198098873187', 'num_games_owned': 82, 'num_reviews': 27, 'playtime_forever': 0, 'playtime_last_two_weeks': 0, 'last_played': 0}, 'language': 'koreana', 'review': '저는 병신입니다.', 'timestamp_created': 1638849178, 'timestamp_updated': 1638849178, 'voted_up': True, 'votes_up': 1, 'votes_funny': 0, 'weighted_vote_score': '0.525862038135528564', 'comment_count': 0, 'steam_purchase': True, 'received_for_free': False, 'written_during_early_access': False}, '105279687': {'recommendationid': '105279687', 'author': {'steamid': '76561197979859372', 'num_games_owned': 416, 'num_reviews': 30, 'playtime_forever': 0, 'playtime_last_two_weeks': 0, 'last_played': 0}, 'language': 'koreana', 'review': '음~~머~~~~', 'timestamp_created': 1638698370, 'timestamp_updated': 1638698370, 'voted_up': True, 'votes_up': 1, 'votes_funny': 0, 'weighted_vote_score': '0.525862038135528564', 'comment_count': 0, 'steam_purchase': False, 'received_for_free': False, 'written_during_early_access': False}, '105060686': {'recommendationid': '105060686', 'author': {'steamid': '76561198332581689', 'num_games_owned': 100, 'num_reviews': 13, 'playtime_forever': 0, 'playtime_last_two_weeks': 0, 'last_played': 0}, 'language': 'koreana', 'review': '이번 2021년도 4/4분기 서버비 납부했습니다~~!!\\n\\n음-머', 'timestamp_created': 1638438460, 'timestamp_updated': 1638438517, 'voted_up': True, 'votes_up': 2, 'votes_funny': 0, 'weighted_vote_score': '0.545454561710357666', 'comment_count': 0, 'steam_purchase': True, 'received_for_free': False, 'written_during_early_access': False}, '105059585': {'recommendationid': '105059585', 'author': {'steamid': '76561198014150764', 'num_games_owned': 1033, 'num_reviews': 5, 'playtime_forever': 0, 'playtime_last_two_weeks': 0, 'last_played': 0}, 'language': 'koreana', 'review': '군붕이면 가격 신경안쓰고 그냥 삼 ㅋㅋ', 'timestamp_created': 1638436784, 'timestamp_updated': 1638436784, 'voted_up': True, 'votes_up': 2, 'votes_funny': 0, 'weighted_vote_score': '0.528907954692840576', 'comment_count': 0, 'steam_purchase': True, 'received_for_free': False, 'written_during_early_access': False}, '105057581': {'recommendationid': '105057581', 'author': {'steamid': '76561198216696735', 'num_games_owned': 471, 'num_reviews': 103, 'playtime_forever': 0, 'playtime_last_two_weeks': 0, 'last_played': 0}, 'language': 'koreana', 'review': '와~ 디맥을 치고싶은게 아니라 디맥 모바일 자동사냥 하고싶으면 추천추천!\\n이걸 사면 디맥을 안쳐도 시즌패스 보상이 시즌끝날때 다 들어온다구!', 'timestamp_created': 1638433437, 'timestamp_updated': 1638433437, 'voted_up': True, 'votes_up': 1, 'votes_funny': 2, 'weighted_vote_score': '0.523809552192687988', 'comment_count': 0, 'steam_purchase': True, 'received_for_free': False, 'written_during_early_access': False}, '105053723': {'recommendationid': '105053723', 'author': {'steamid': '76561198282317015', 'num_games_owned': 775, 'num_reviews': 22, 'playtime_forever': 0, 'playtime_last_two_weeks': 0, 'last_played': 0}, 'language': 'koreana', 'review': \"일단 이 부스터의 혜택은 클리어 포인트의 획득량이 대량 상승하여 더욱 빠르게 클리어 패스를 완료할 수 있게 되는건데, 시즌이 종료될 때까지 클리어 패스를 완료하지 않아도 시즌이 종료되면, 30스탭까지 자동으로 달성되서 보상을 획득할 수 있게 된다.\\n\\n내가 이야기하고 싶은 바는 굳이 하나의 부스터 에다가 서로 상반되는, 둘 중 하나를 택하면 나머지 하나는 쓸모가 없어지는, '클리어 포인트 획득량 대량 상승'과 '클리어 패스 미완료 시에도 시즌이 끝나면 자동 완료'를 같이 넣었어야 했나, 이다.\\n그러면, 실질적으로 이 부스터의 혜택은 위에서 서술했던 전자 혹 후자 중 본인이 선택하는 한 가지 일 텐데, 그것을 9,800원이란 적잖은 금액에 파는 게 맞나 싶다는 생각이 든다.\\n\\n그리고 기존에 진행했던 클리어 포인트 X2~4 이벤트는 이 부스터에 클리어 포인트 X4를 주는 혜택이 생김에 따라, 더 이상 진행되지 않는 건지, 만약 이벤트를 진행한다면 이 부스터가 적용되어 있는 사람은 이벤트를 진행하는 배수와 부스터의 X4를 같이 적용받는 것인지도 의문이다.\", 'timestamp_created': 1638426619, 'timestamp_updated': 1638426745, 'voted_up': False, 'votes_up': 10, 'votes_funny': 0, 'weighted_vote_score': '0.601532578468322754', 'comment_count': 1, 'steam_purchase': True, 'received_for_free': False, 'written_during_early_access': False}}, 'query_summary': {'num_reviews': 6, 'review_score': 0, 'review_score_desc': '6 user reviews', 'total_positive': 5, 'total_negative': 1, 'total_reviews': 6}, 'cursors': {'AoJ4x8X1vP0Ce+HfkAM=': 'Thu Dec  9 15:20:58 2021'}}, 1)\n"
     ]
    },
    {
     "name": "stderr",
     "output_type": "stream",
     "text": [
      "  0%|                                                                                                                                                                                                                                       | 31/131986 [02:43<193:56:56,  5.29s/it]"
     ]
    },
    {
     "name": "stdout",
     "output_type": "stream",
     "text": [
      "({'reviews': {}, 'query_summary': {'total_reviews': -1}, 'cursors': {'*': 'Thu Dec  9 15:21:03 2021'}}, 1)\n"
     ]
    },
    {
     "name": "stderr",
     "output_type": "stream",
     "text": [
      "  0%|                                                                                                                                                                                                                                       | 32/131986 [02:48<193:25:37,  5.28s/it]"
     ]
    },
    {
     "name": "stdout",
     "output_type": "stream",
     "text": [
      "({'reviews': {}, 'query_summary': {'total_reviews': -1}, 'cursors': {'*': 'Thu Dec  9 15:21:08 2021'}}, 1)\n"
     ]
    },
    {
     "name": "stderr",
     "output_type": "stream",
     "text": [
      "  0%|                                                                                                                                                                                                                                       | 33/131986 [02:53<193:18:20,  5.27s/it]"
     ]
    },
    {
     "name": "stdout",
     "output_type": "stream",
     "text": [
      "({'reviews': {}, 'query_summary': {'total_reviews': -1}, 'cursors': {'*': 'Thu Dec  9 15:21:13 2021'}}, 1)\n"
     ]
    },
    {
     "name": "stderr",
     "output_type": "stream",
     "text": [
      "  0%|                                                                                                                                                                                                                                       | 34/131986 [02:58<193:00:01,  5.27s/it]"
     ]
    },
    {
     "name": "stdout",
     "output_type": "stream",
     "text": [
      "({'reviews': {}, 'query_summary': {'total_reviews': -1}, 'cursors': {'*': 'Thu Dec  9 15:21:19 2021'}}, 1)\n"
     ]
    },
    {
     "name": "stderr",
     "output_type": "stream",
     "text": [
      "  0%|                                                                                                                                                                                                                                       | 35/131986 [03:04<192:39:01,  5.26s/it]"
     ]
    },
    {
     "name": "stdout",
     "output_type": "stream",
     "text": [
      "({'reviews': {}, 'query_summary': {'total_reviews': -1}, 'cursors': {'*': 'Thu Dec  9 15:21:24 2021'}}, 1)\n"
     ]
    },
    {
     "name": "stderr",
     "output_type": "stream",
     "text": [
      "  0%|                                                                                                                                                                                                                                       | 36/131986 [03:09<193:03:31,  5.27s/it]"
     ]
    },
    {
     "name": "stdout",
     "output_type": "stream",
     "text": [
      "({'reviews': {}, 'query_summary': {'total_reviews': -1}, 'cursors': {'*': 'Thu Dec  9 15:21:29 2021'}}, 1)\n"
     ]
    },
    {
     "name": "stderr",
     "output_type": "stream",
     "text": [
      "  0%|                                                                                                                                                                                                                                       | 37/131986 [03:14<192:56:07,  5.26s/it]"
     ]
    },
    {
     "name": "stdout",
     "output_type": "stream",
     "text": [
      "({'reviews': {}, 'query_summary': {'total_reviews': -1}, 'cursors': {'*': 'Thu Dec  9 15:21:34 2021'}}, 1)\n"
     ]
    },
    {
     "name": "stderr",
     "output_type": "stream",
     "text": [
      "  0%|                                                                                                                                                                                                                                       | 38/131986 [03:19<193:09:44,  5.27s/it]"
     ]
    },
    {
     "name": "stdout",
     "output_type": "stream",
     "text": [
      "({'reviews': {}, 'query_summary': {'total_reviews': -1}, 'cursors': {'*': 'Thu Dec  9 15:21:40 2021'}}, 1)\n"
     ]
    },
    {
     "name": "stderr",
     "output_type": "stream",
     "text": [
      "  0%|                                                                                                                                                                                                                                       | 39/131986 [03:25<192:54:13,  5.26s/it]"
     ]
    },
    {
     "name": "stdout",
     "output_type": "stream",
     "text": [
      "({'reviews': {}, 'query_summary': {'total_reviews': -1}, 'cursors': {'*': 'Thu Dec  9 15:21:45 2021'}}, 1)\n"
     ]
    },
    {
     "name": "stderr",
     "output_type": "stream",
     "text": [
      "  0%|                                                                                                                                                                                                                                       | 40/131986 [03:30<192:52:02,  5.26s/it]"
     ]
    },
    {
     "name": "stdout",
     "output_type": "stream",
     "text": [
      "({'reviews': {}, 'query_summary': {'total_reviews': -1}, 'cursors': {'*': 'Thu Dec  9 15:21:50 2021'}}, 1)\n"
     ]
    },
    {
     "name": "stderr",
     "output_type": "stream",
     "text": [
      "  0%|                                                                                                                                                                                                                                       | 41/131986 [03:35<192:50:01,  5.26s/it]"
     ]
    },
    {
     "name": "stdout",
     "output_type": "stream",
     "text": [
      "({'reviews': {}, 'query_summary': {'total_reviews': -1}, 'cursors': {'*': 'Thu Dec  9 15:21:55 2021'}}, 1)\n"
     ]
    },
    {
     "name": "stderr",
     "output_type": "stream",
     "text": [
      "  0%|                                                                                                                                                                                                                                       | 41/131986 [03:40<197:33:10,  5.39s/it]\n"
     ]
    },
    {
     "ename": "KeyboardInterrupt",
     "evalue": "",
     "output_type": "error",
     "traceback": [
      "\u001b[1;31m---------------------------------------------------------------------------\u001b[0m",
      "\u001b[1;31mKeyboardInterrupt\u001b[0m                         Traceback (most recent call last)",
      "\u001b[1;32m~\\AppData\\Local\\Temp/ipykernel_24560/51847275.py\u001b[0m in \u001b[0;36m<module>\u001b[1;34m\u001b[0m\n\u001b[0;32m     29\u001b[0m         \u001b[1;32mif\u001b[0m \u001b[0mreviews\u001b[0m\u001b[1;33m[\u001b[0m\u001b[1;36m0\u001b[0m\u001b[1;33m]\u001b[0m\u001b[1;33m[\u001b[0m\u001b[1;34m'reviews'\u001b[0m\u001b[1;33m]\u001b[0m\u001b[1;33m:\u001b[0m\u001b[1;33m\u001b[0m\u001b[1;33m\u001b[0m\u001b[0m\n\u001b[0;32m     30\u001b[0m             \u001b[0mreview_insert\u001b[0m\u001b[1;33m(\u001b[0m\u001b[0mreviews\u001b[0m\u001b[1;33m,\u001b[0m \u001b[0mappid\u001b[0m\u001b[1;33m)\u001b[0m\u001b[1;33m\u001b[0m\u001b[1;33m\u001b[0m\u001b[0m\n\u001b[1;32m---> 31\u001b[1;33m         \u001b[0msleep\u001b[0m\u001b[1;33m(\u001b[0m\u001b[1;36m5\u001b[0m\u001b[1;33m)\u001b[0m\u001b[1;33m\u001b[0m\u001b[1;33m\u001b[0m\u001b[0m\n\u001b[0m\u001b[0;32m     32\u001b[0m \u001b[1;32mexcept\u001b[0m\u001b[1;33m:\u001b[0m\u001b[1;33m\u001b[0m\u001b[1;33m\u001b[0m\u001b[0m\n\u001b[0;32m     33\u001b[0m     \u001b[1;32mraise\u001b[0m\u001b[1;33m\u001b[0m\u001b[1;33m\u001b[0m\u001b[0m\n",
      "\u001b[1;31mKeyboardInterrupt\u001b[0m: "
     ]
    }
   ],
   "source": [
    "start_time = time.time()\n",
    "try_cnt = 0\n",
    "\n",
    "db_function = None\n",
    "try:\n",
    "    db_function = db_execute(db_auth['local_db'][\"host\"], \n",
    "                         db_auth['local_db'][\"port\"],\n",
    "                         db_auth['local_db'][\"user\"],\n",
    "                         db_auth['local_db'][\"db\"], \n",
    "                         db_auth['local_db'][\"passwd\"])\n",
    "    \n",
    "    for app in tqdm(apps):\n",
    "        appid=app['appid']\n",
    "        \n",
    "        sql = \"SELECT id FROM game_info WHERE steam_appid=%s\" % appid\n",
    "        if not db_function.execute_select(sql):\n",
    "            continue\n",
    "        try_cnt +=1\n",
    "        current_time = time.time()\n",
    "        elapsed_time = current_time - start_time\n",
    "\n",
    "        if try_cnt > 200 and elapsed_time < 300:\n",
    "            sleep(60)\n",
    "            try_cnt = 0\n",
    "            start_time = time.time()\n",
    "            \n",
    "\n",
    "        \n",
    "        request_params = dict()\n",
    "        request_params['language'] = 'korean'\n",
    "\n",
    "        reviews = steamreviews.download_reviews_for_app_id(appid,chosen_request_params=request_params)\n",
    "        print(reviews)\n",
    "        if reviews[0]['reviews']:\n",
    "            review_insert(reviews, appid)\n",
    "        sleep(5)\n",
    "except:\n",
    "    raise\n",
    "finally:\n",
    "    db_function.curs.close()\n",
    "    db_function.conn.close()\n",
    "    "
   ]
  }
 ],
 "metadata": {
  "kernelspec": {
   "display_name": "PyCharm (steamRecommendation)",
   "language": "python",
   "name": "pycharm-95bc12b2"
  },
  "language_info": {
   "codemirror_mode": {
    "name": "ipython",
    "version": 3
   },
   "file_extension": ".py",
   "mimetype": "text/x-python",
   "name": "python",
   "nbconvert_exporter": "python",
   "pygments_lexer": "ipython3",
   "version": "3.8.10"
  }
 },
 "nbformat": 4,
 "nbformat_minor": 5
}
