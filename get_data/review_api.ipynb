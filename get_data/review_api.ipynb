{
 "cells": [
  {
   "cell_type": "code",
   "execution_count": 1,
   "id": "8d0b14c1-82c0-4fe5-b2ee-767717340c8d",
   "metadata": {},
   "outputs": [],
   "source": [
    "import requests\n",
    "import yaml\n",
    "import time\n",
    "from tqdm import tqdm\n",
    "from datetime import datetime\n",
    "import steamreviews\n",
    "from time import sleep\n",
    "import os\n",
    "os.chdir(\"C:\\\\Users\\weejw\\Documents\\steamRecommendation\")\n",
    "from db_config.db_funtion import db_execute"
   ]
  },
  {
   "cell_type": "code",
   "execution_count": 2,
   "id": "27438e09-485b-4601-b29f-21ab238aace5",
   "metadata": {},
   "outputs": [],
   "source": [
    "def review_insert(reviews, appid):\n",
    "    need_data = ['votes_up', 'votes_funny', 'steam_purchase', 'received_for_free', 'written_during_early_access']\n",
    "    need_data_dic ={'steam_appid': appid}\n",
    "        \n",
    "    for _, review in reviews[0]['reviews'].items():\n",
    "        author = review['author']\n",
    "        steamid = author['steamid']\n",
    "        sql = \"SELECT id FROM review WHERE steam_appid=%s AND steamid=%s\" % (appid, steamid)\n",
    "        if db_function.execute_select(sql):\n",
    "            return\n",
    "        \n",
    "        for k, v in author.items():\n",
    "            \n",
    "            if k == 'last_played':\n",
    "                v = datetime.fromtimestamp(v).strftime(\"%Y-%m-%d %H:%M:%S\")\n",
    "            need_data_dic[k] = v\n",
    "        \n",
    "        for col in need_data:\n",
    "            need_data_dic[col] = review[col]\n",
    "        \n",
    "        placeholders = ', '.join(['%s'] * len(need_data_dic))\n",
    "        columns = ', '.join(need_data_dic.keys())\n",
    "        \n",
    "        sql = \"INSERT IGNORE INTO %s ( %s ) VALUES ( %s )\" % ('review', columns, placeholders)\n",
    "        db_function.execute_insert(sql, list(need_data_dic.values()))\n"
   ]
  },
  {
   "cell_type": "code",
   "execution_count": 3,
   "id": "f9272240-ea1e-42b0-aa9f-67cdee7b3ef4",
   "metadata": {
    "tags": []
   },
   "outputs": [
    {
     "name": "stderr",
     "output_type": "stream",
     "text": [
      "  0%|                                                                                                                                                                                                                                                        | 0/32 [00:00<?, ?it/s]"
     ]
    },
    {
     "name": "stdout",
     "output_type": "stream",
     "text": [
      "[appID = 1829300] expected #reviews = 1\n"
     ]
    },
    {
     "name": "stderr",
     "output_type": "stream",
     "text": [
      " 94%|████████████████████████████████████████████████████████████████████████████████████████████████████████████████████████████████████████████████████████████████████████████████████████████████████████████████████████████████               | 30/32 [02:37<00:10,  5.24s/it]"
     ]
    },
    {
     "name": "stdout",
     "output_type": "stream",
     "text": [
      "[appID = 1822190] expected #reviews = 1\n"
     ]
    },
    {
     "name": "stderr",
     "output_type": "stream",
     "text": [
      "100%|███████████████████████████████████████████████████████████████████████████████████████████████████████████████████████████████████████████████████████████████████████████████████████████████████████████████████████████████████████████████| 32/32 [02:47<00:00,  5.25s/it]\n"
     ]
    }
   ],
   "source": [
    "start_time = time.time()\n",
    "try_cnt = 0\n",
    "db_function = None\n",
    "\n",
    "with open('C:\\\\Users\\weejw\\Documents\\steamRecommendation\\db_config\\db_auth.yaml', 'r') as file:\n",
    "    db_auth = yaml.safe_load(file)\n",
    "\n",
    "try:\n",
    "    db_function = db_execute(db_auth['local_db'][\"host\"], \n",
    "                             db_auth['local_db'][\"port\"],\n",
    "                             db_auth['local_db'][\"user\"],\n",
    "                             db_auth['local_db'][\"db\"], \n",
    "                             db_auth['local_db'][\"passwd\"])\n",
    "\n",
    "    sql = \"SELECT steam_appid FROM game_info\"\n",
    "    app_ids = db_function.execute_select(sql)\n",
    "    for appid in tqdm(app_ids):\n",
    "        appid = appid[0]\n",
    "        try_cnt +=1\n",
    "        current_time = time.time()\n",
    "        elapsed_time = current_time - start_time\n",
    "\n",
    "        if try_cnt > 200 and elapsed_time < 300:\n",
    "            sleep(60)\n",
    "            try_cnt = 0\n",
    "            start_time = time.time()\n",
    "            \n",
    "\n",
    "        \n",
    "        request_params = dict()\n",
    "        request_params['language'] = 'korean'\n",
    "\n",
    "        reviews = steamreviews.download_reviews_for_app_id(appid,chosen_request_params=request_params)\n",
    "        if reviews[0]['reviews']:\n",
    "            review_insert(reviews, appid)\n",
    "        sleep(5)\n",
    "        \n",
    "except:\n",
    "    raise\n",
    "    \n",
    "finally:\n",
    "    db_function.curs.close()\n",
    "    db_function.conn.close()\n",
    "    "
   ]
  }
 ],
 "metadata": {
  "kernelspec": {
   "display_name": "PyCharm (steamRecommendation)",
   "language": "python",
   "name": "pycharm-95bc12b2"
  },
  "language_info": {
   "codemirror_mode": {
    "name": "ipython",
    "version": 3
   },
   "file_extension": ".py",
   "mimetype": "text/x-python",
   "name": "python",
   "nbconvert_exporter": "python",
   "pygments_lexer": "ipython3",
   "version": "3.8.10"
  }
 },
 "nbformat": 4,
 "nbformat_minor": 5
}
